{
 "cells": [
  {
   "cell_type": "code",
   "execution_count": 2,
   "id": "9c6465f4",
   "metadata": {},
   "outputs": [
    {
     "name": "stdout",
     "output_type": "stream",
     "text": [
      "I recommended it, It is good\n"
     ]
    }
   ],
   "source": [
    "movie = \"The crown\"\n",
    "rate = 3\n",
    "popularity= 72.65"
   ]
  },
  {
   "cell_type": "code",
   "execution_count": 3,
   "id": "c1b4c8a4",
   "metadata": {},
   "outputs": [
    {
     "name": "stdout",
     "output_type": "stream",
     "text": [
      "I recommended it, It is good\n"
     ]
    }
   ],
   "source": [
    "if rate >= 4 and popularity > 80:\n",
    "    print(\"Highly Recommended\")\n",
    "elif rate >=3 and popularity > 70:\n",
    "    print(\"I recommended it, It is good\")\n",
    "elif rate <=2 and popularity > 60:\n",
    "    print(\"You should check it out!\")\n",
    "elif rate <=2 and popularity < 50:\n",
    "    print(\"Don't watch it, It is a waste of time\")"
   ]
  },
  {
   "cell_type": "code",
   "execution_count": null,
   "id": "cb7ea00a",
   "metadata": {},
   "outputs": [],
   "source": []
  }
 ],
 "metadata": {
  "kernelspec": {
   "display_name": "Python 3",
   "language": "python",
   "name": "python3"
  },
  "language_info": {
   "codemirror_mode": {
    "name": "ipython",
    "version": 3
   },
   "file_extension": ".py",
   "mimetype": "text/x-python",
   "name": "python",
   "nbconvert_exporter": "python",
   "pygments_lexer": "ipython3",
   "version": "3.8.8"
  }
 },
 "nbformat": 4,
 "nbformat_minor": 5
}
